{
  "nbformat": 4,
  "nbformat_minor": 0,
  "metadata": {
    "colab": {
      "provenance": []
    },
    "kernelspec": {
      "name": "python3",
      "display_name": "Python 3"
    },
    "language_info": {
      "name": "python"
    }
  },
  "cells": [
    {
      "cell_type": "code",
      "execution_count": 2,
      "metadata": {
        "colab": {
          "base_uri": "https://localhost:8080/"
        },
        "id": "U8Q2SL7wj_LU",
        "outputId": "f71603ee-7b62-4c62-bd4f-b53dbfad94c8"
      },
      "outputs": [
        {
          "output_type": "execute_result",
          "data": {
            "text/plain": [
              "tf.float32"
            ]
          },
          "metadata": {},
          "execution_count": 2
        }
      ],
      "source": [
        "import tensorflow as tf\n",
        "\n",
        "#create a new tensor with default datatype\n",
        "tensor1 = tf.constant([1.7, 7.4])\n",
        "tensor1.dtype"
      ]
    },
    {
      "cell_type": "code",
      "source": [
        "tensor2 = tf.constant([1,7,10])\n",
        "tensor2.dtype\n",
        "tensor2"
      ],
      "metadata": {
        "colab": {
          "base_uri": "https://localhost:8080/"
        },
        "id": "IL5gKXdrupCS",
        "outputId": "888fc561-afdf-42b6-ce35-d6fb390e7e7d"
      },
      "execution_count": 4,
      "outputs": [
        {
          "output_type": "execute_result",
          "data": {
            "text/plain": [
              "<tf.Tensor: shape=(3,), dtype=int32, numpy=array([ 1,  7, 10], dtype=int32)>"
            ]
          },
          "metadata": {},
          "execution_count": 4
        }
      ]
    },
    {
      "cell_type": "code",
      "source": [
        "#change float32 to float16 (this is call precision)\n",
        "tensor3 = tf.cast(tensor2, dtype=tf.float16)\n",
        "tensor3, tensor3  .dtype"
      ],
      "metadata": {
        "colab": {
          "base_uri": "https://localhost:8080/"
        },
        "id": "6DScA-xFvCrF",
        "outputId": "6d832e1d-8d8e-43a0-b9ba-63528a50f6bd"
      },
      "execution_count": 7,
      "outputs": [
        {
          "output_type": "execute_result",
          "data": {
            "text/plain": [
              "(<tf.Tensor: shape=(3,), dtype=float16, numpy=array([ 1.,  7., 10.], dtype=float16)>,\n",
              " tf.float16)"
            ]
          },
          "metadata": {},
          "execution_count": 7
        }
      ]
    }
  ]
}