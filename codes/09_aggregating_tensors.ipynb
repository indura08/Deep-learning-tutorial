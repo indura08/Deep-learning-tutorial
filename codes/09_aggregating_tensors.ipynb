{
  "nbformat": 4,
  "nbformat_minor": 0,
  "metadata": {
    "colab": {
      "provenance": []
    },
    "kernelspec": {
      "name": "python3",
      "display_name": "Python 3"
    },
    "language_info": {
      "name": "python"
    }
  },
  "cells": [
    {
      "cell_type": "code",
      "execution_count": 10,
      "metadata": {
        "colab": {
          "base_uri": "https://localhost:8080/"
        },
        "id": "4exHluXLylOX",
        "outputId": "66b941cf-3066-417e-c556-0804c236d5e7"
      },
      "outputs": [
        {
          "output_type": "execute_result",
          "data": {
            "text/plain": [
              "<tf.Tensor: shape=(4,), dtype=int32, numpy=array([  -7,  -10, -100,   17], dtype=int32)>"
            ]
          },
          "metadata": {},
          "execution_count": 10
        }
      ],
      "source": [
        "#Aggregating tensors = condensing them from multiple values down to a smaller amount of values\n",
        "\n",
        "import tensorflow as tf\n",
        "import numpy as np\n",
        "\n",
        "#get absoulte values\n",
        "A = tf.constant([-7,-10, -100, 17])\n",
        "A"
      ]
    },
    {
      "cell_type": "code",
      "source": [
        "#this is how we take the absolute values form a given tensor\n",
        "tf.abs(A)"
      ],
      "metadata": {
        "colab": {
          "base_uri": "https://localhost:8080/"
        },
        "id": "SSuHiy9p1gel",
        "outputId": "3736dcf4-4c71-4ddd-b22a-afc5dfbbded3"
      },
      "execution_count": 11,
      "outputs": [
        {
          "output_type": "execute_result",
          "data": {
            "text/plain": [
              "<tf.Tensor: shape=(4,), dtype=int32, numpy=array([  7,  10, 100,  17], dtype=int32)>"
            ]
          },
          "metadata": {},
          "execution_count": 11
        }
      ]
    },
    {
      "cell_type": "code",
      "source": [
        "# lets go through the following dforms of aggregation\n",
        "#---1. get the minimu\n",
        "#---2. get the maximum\n",
        "#---3. ge the mean of the tensor\n",
        "#---4.get the sum of the tensor\n",
        "\n",
        "# lets create a random tensor to chekc this\n",
        "\n",
        "E = tf.constant(np.random.randint(0,100, size=50))\n",
        "E"
      ],
      "metadata": {
        "colab": {
          "base_uri": "https://localhost:8080/"
        },
        "id": "9rRH8jnFNPos",
        "outputId": "308c126d-ad96-40f0-b363-b2d50fdaef7a"
      },
      "execution_count": 12,
      "outputs": [
        {
          "output_type": "execute_result",
          "data": {
            "text/plain": [
              "<tf.Tensor: shape=(50,), dtype=int64, numpy=\n",
              "array([91, 11, 96, 74, 55, 29, 89, 49, 42, 43, 13, 55, 91, 31, 74, 51, 38,\n",
              "       50, 78, 14, 15, 86, 77, 89, 11, 44, 11, 47, 91, 19, 21, 34, 69, 17,\n",
              "       42, 38, 32, 62, 98, 44, 67, 10, 52, 31, 84, 47, 74, 70, 96, 91])>"
            ]
          },
          "metadata": {},
          "execution_count": 12
        }
      ]
    },
    {
      "cell_type": "code",
      "source": [
        "tf.size(E), E.shape,"
      ],
      "metadata": {
        "colab": {
          "base_uri": "https://localhost:8080/"
        },
        "id": "798ff8N-N7lx",
        "outputId": "12520823-51b2-4d03-fb9e-6b12bbd7b963"
      },
      "execution_count": 13,
      "outputs": [
        {
          "output_type": "execute_result",
          "data": {
            "text/plain": [
              "(<tf.Tensor: shape=(), dtype=int32, numpy=50>, TensorShape([50]))"
            ]
          },
          "metadata": {},
          "execution_count": 13
        }
      ]
    },
    {
      "cell_type": "code",
      "source": [
        "#finding the minimum\n",
        "tf.reduce_min(E)\n",
        "# this is like np.min(E)"
      ],
      "metadata": {
        "colab": {
          "base_uri": "https://localhost:8080/"
        },
        "id": "0pbYBoByOIfB",
        "outputId": "f4e301be-c561-4f11-df7d-e3a68b15d9b1"
      },
      "execution_count": 14,
      "outputs": [
        {
          "output_type": "execute_result",
          "data": {
            "text/plain": [
              "<tf.Tensor: shape=(), dtype=int64, numpy=10>"
            ]
          },
          "metadata": {},
          "execution_count": 14
        }
      ]
    },
    {
      "cell_type": "code",
      "source": [
        "#finding the maximum\n",
        "tf.reduce_max(E)"
      ],
      "metadata": {
        "colab": {
          "base_uri": "https://localhost:8080/"
        },
        "id": "GLXroiKfOUuK",
        "outputId": "51821072-a8c9-4969-f3a7-7f3cc465a3d2"
      },
      "execution_count": 15,
      "outputs": [
        {
          "output_type": "execute_result",
          "data": {
            "text/plain": [
              "<tf.Tensor: shape=(), dtype=int64, numpy=98>"
            ]
          },
          "metadata": {},
          "execution_count": 15
        }
      ]
    },
    {
      "cell_type": "code",
      "source": [
        "#mean of the tensor\n",
        "tf.reduce_mean(E)"
      ],
      "metadata": {
        "colab": {
          "base_uri": "https://localhost:8080/"
        },
        "id": "oIJQATR9OaCX",
        "outputId": "e17b1293-31a8-4c26-8137-3fc5bb60b71b"
      },
      "execution_count": 16,
      "outputs": [
        {
          "output_type": "execute_result",
          "data": {
            "text/plain": [
              "<tf.Tensor: shape=(), dtype=int64, numpy=52>"
            ]
          },
          "metadata": {},
          "execution_count": 16
        }
      ]
    },
    {
      "cell_type": "code",
      "source": [
        "#sum of the tensor\n",
        "tf.reduce_sum(E)"
      ],
      "metadata": {
        "colab": {
          "base_uri": "https://localhost:8080/"
        },
        "id": "gt42-ro1OeSm",
        "outputId": "e8f03df1-a1f1-44c4-8fcb-a840bb3fed6f"
      },
      "execution_count": 17,
      "outputs": [
        {
          "output_type": "execute_result",
          "data": {
            "text/plain": [
              "<tf.Tensor: shape=(), dtype=int64, numpy=2643>"
            ]
          },
          "metadata": {},
          "execution_count": 17
        }
      ]
    },
    {
      "cell_type": "code",
      "source": [
        "#finging the variance\n",
        "#to find the variance we need tfp (tensorflow probabilty)\n",
        "\n",
        "# in this case we use tf\n",
        "import tensorflow_probability as tfp\n",
        "tfp.stats.variance(E)\n",
        "tfp.stats.stddev(tf.cast(E, tf.float32)) # and note that to find standered devaiation we should have flot type of data chatgpt example eke thiynwa meka hodt\n",
        "\n",
        "#also we can use tf.math to search for std and variance\n",
        "tf.math.reduce_variance(tf.cast(E, tf.float32)) # notice that in here also we had to make it as a float type\n",
        "print(f\" std dev is : {tf.math.reduce_std(tf.cast(E, tf.float32))}\")"
      ],
      "metadata": {
        "colab": {
          "base_uri": "https://localhost:8080/"
        },
        "id": "zIi-JqvZOmff",
        "outputId": "3753fb59-4fff-46b2-9c8f-92aa80fb7454"
      },
      "execution_count": 22,
      "outputs": [
        {
          "output_type": "stream",
          "name": "stdout",
          "text": [
            " std dev is : 27.596384048461914\n"
          ]
        }
      ]
    }
  ]
}