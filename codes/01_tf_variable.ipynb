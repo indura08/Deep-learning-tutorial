{
  "nbformat": 4,
  "nbformat_minor": 0,
  "metadata": {
    "colab": {
      "provenance": []
    },
    "kernelspec": {
      "name": "python3",
      "display_name": "Python 3"
    },
    "language_info": {
      "name": "python"
    }
  },
  "cells": [
    {
      "cell_type": "code",
      "execution_count": 1,
      "metadata": {
        "colab": {
          "base_uri": "https://localhost:8080/"
        },
        "id": "s-F2z1RPe4Qw",
        "outputId": "d7af9a00-f042-4947-ce49-ccea0ebb7d7e"
      },
      "outputs": [
        {
          "output_type": "execute_result",
          "data": {
            "text/plain": [
              "(<tf.Variable 'Variable:0' shape=(2,) dtype=int32, numpy=array([10,  7], dtype=int32)>,\n",
              " <tf.Tensor: shape=(2,), dtype=int32, numpy=array([ 7, 10], dtype=int32)>)"
            ]
          },
          "metadata": {},
          "execution_count": 1
        }
      ],
      "source": [
        "#create a tensor with ts.variable()\n",
        "import tensorflow as tf\n",
        "\n",
        "changlebale_variable = tf.Variable([10,7])\n",
        "unchangeble_tensor = tf.constant([7,10])\n",
        "\n",
        "changlebale_variable, unchangeble_tensor"
      ]
    },
    {
      "cell_type": "code",
      "source": [
        "changlebale_variable[0].assign(18)\n",
        "changlebale_variable\n",
        "\n",
        "#see the diffrenec constant like const in javascript and Varibale is like let or var in javascript like constant and variable"
      ],
      "metadata": {
        "colab": {
          "base_uri": "https://localhost:8080/"
        },
        "id": "E_PZDsDmhbwh",
        "outputId": "43678549-0209-4757-f128-a1096975c596"
      },
      "execution_count": 2,
      "outputs": [
        {
          "output_type": "execute_result",
          "data": {
            "text/plain": [
              "<tf.Variable 'Variable:0' shape=(2,) dtype=int32, numpy=array([18,  7], dtype=int32)>"
            ]
          },
          "metadata": {},
          "execution_count": 2
        }
      ]
    }
  ]
}