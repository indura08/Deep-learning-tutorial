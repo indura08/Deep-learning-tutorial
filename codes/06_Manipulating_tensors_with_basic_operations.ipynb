{
  "nbformat": 4,
  "nbformat_minor": 0,
  "metadata": {
    "colab": {
      "provenance": []
    },
    "kernelspec": {
      "name": "python3",
      "display_name": "Python 3"
    },
    "language_info": {
      "name": "python"
    }
  },
  "cells": [
    {
      "cell_type": "code",
      "execution_count": null,
      "metadata": {
        "id": "FFPqcDH0819x",
        "colab": {
          "base_uri": "https://localhost:8080/"
        },
        "outputId": "22a60e2d-fe8a-4adf-f7d3-8e5a9a2b39c0"
      },
      "outputs": [
        {
          "output_type": "stream",
          "name": "stdout",
          "text": [
            "tf.Tensor(\n",
            "[[20 17]\n",
            " [13 14]], shape=(2, 2), dtype=int32)\n",
            "tf.Tensor(\n",
            "[[10  7]\n",
            " [ 3  4]], shape=(2, 2), dtype=int32)\n"
          ]
        }
      ],
      "source": [
        "import tensorflow as tf\n",
        "\n",
        "\n",
        "#basic operations\n",
        "\n",
        "#------------------1.addition---------------------\n",
        "\n",
        "tesnor1 = tf.constant([[10,7], [3,4]])\n",
        "print(tesnor1 + 10)\n",
        "# when this happen original tensor is unchanged\n",
        "print(tesnor1)"
      ]
    },
    {
      "cell_type": "code",
      "source": [
        "#-----------------2.multiplication-----------------\n",
        "print(tesnor1 * 10)\n",
        "#like this we can do the subsract too\n"
      ],
      "metadata": {
        "colab": {
          "base_uri": "https://localhost:8080/"
        },
        "id": "vLFEgVtZUOKn",
        "outputId": "274e31ae-c7d0-49aa-9ec1-4b2019439666"
      },
      "execution_count": null,
      "outputs": [
        {
          "output_type": "stream",
          "name": "stdout",
          "text": [
            "tf.Tensor(\n",
            "[[100  70]\n",
            " [ 30  40]], shape=(2, 2), dtype=int32)\n"
          ]
        }
      ]
    },
    {
      "cell_type": "code",
      "source": [
        "#we can use tensorflow build in functiosn too\n",
        "\n",
        "print(tf.multiply(tesnor1 , 12))\n",
        "print(tf.add(tesnor1, 10))\n",
        "\n",
        "# like this tf has some pre build functions"
      ],
      "metadata": {
        "colab": {
          "base_uri": "https://localhost:8080/"
        },
        "id": "2E3L9Ce9UiFo",
        "outputId": "0b7dac6f-1b47-4f4e-9e6f-763e7bbc5bc8"
      },
      "execution_count": null,
      "outputs": [
        {
          "output_type": "stream",
          "name": "stdout",
          "text": [
            "tf.Tensor(\n",
            "[[120  84]\n",
            " [ 36  48]], shape=(2, 2), dtype=int32)\n",
            "tf.Tensor(\n",
            "[[20 17]\n",
            " [13 14]], shape=(2, 2), dtype=int32)\n"
          ]
        }
      ]
    }
  ]
}