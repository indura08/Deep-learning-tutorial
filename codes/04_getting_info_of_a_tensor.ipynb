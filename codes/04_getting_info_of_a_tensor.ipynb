{
  "nbformat": 4,
  "nbformat_minor": 0,
  "metadata": {
    "colab": {
      "provenance": []
    },
    "kernelspec": {
      "name": "python3",
      "display_name": "Python 3"
    },
    "language_info": {
      "name": "python"
    }
  },
  "cells": [
    {
      "cell_type": "code",
      "execution_count": 2,
      "metadata": {
        "colab": {
          "base_uri": "https://localhost:8080/"
        },
        "id": "lGiw0kwpvCrk",
        "outputId": "1a13bb6c-824a-469e-b358-4cd27e622cdd"
      },
      "outputs": [
        {
          "output_type": "execute_result",
          "data": {
            "text/plain": [
              "(TensorShape([2, 3, 4, 5]), 4, <tf.Tensor: shape=(), dtype=int32, numpy=120>)"
            ]
          },
          "metadata": {},
          "execution_count": 2
        }
      ],
      "source": [
        "import tensorflow as tf\n",
        "\n",
        "#getting informatios form tensors\n",
        "# 1. shape\n",
        "# 2. Rank\n",
        "# 3. axis or dimensions\n",
        "# 4. size\n",
        "\n",
        "#-----------------Every informations is here--------------------------\n",
        "\n",
        "rank_4_tensor = tf.zeros(shape=[2,3,4,5])\n",
        "rank_4_tensor.shape, rank_4_tensor.ndim, tf.size(rank_4_tensor)\n"
      ]
    },
    {
      "cell_type": "code",
      "source": [
        "#Get various attirbutes of our tensor\n",
        "\n",
        "print(f\"Datatype of every element is : {rank_4_tensor.dtype}\")\n",
        "print(f\"Number of dimensions (Rank): {rank_4_tensor.ndim}\")\n",
        "print(f\"shape of the tensor: {rank_4_tensor.shape}\")\n",
        "print(f\"Elements along the 0 axis: {rank_4_tensor.shape[0]}\")\n",
        "print(f\"Elements along the last axis: {rank_4_tensor.shape[-1]}\")\n",
        "print(f\"Total number of element in our tensor {tf.size(rank_4_tensor).numpy()}\")"
      ],
      "metadata": {
        "colab": {
          "base_uri": "https://localhost:8080/"
        },
        "id": "D1jSyURHyvmM",
        "outputId": "f8c6970a-1458-42a1-cfa3-38c3da59fa41"
      },
      "execution_count": 8,
      "outputs": [
        {
          "output_type": "stream",
          "name": "stdout",
          "text": [
            "Datatype of every element is : <dtype: 'float32'>\n",
            "Number of dimensions (Rank): 4\n",
            "shape of the tensor: (2, 3, 4, 5)\n",
            "Elements along the 0 axis: 2\n",
            "Elements along the last axis: 5\n",
            "Total number of element in our tensor 120\n"
          ]
        }
      ]
    }
  ]
}